{
 "cells": [
  {
   "cell_type": "markdown",
   "metadata": {},
   "source": [
    "<img alt=\"QuantRocket logo\" src=\"https://www.quantrocket.com/assets/img/notebook-header-logo.png\">\n",
    "\n",
    "<a href=\"https://www.quantrocket.com/disclaimer/\">Disclaimer</a>"
   ]
  },
  {
   "cell_type": "markdown",
   "metadata": {},
   "source": [
    "# Intraday Trading Rules\n",
    "\n",
    "Our trading strategy will buy recent winners as computed by our end-of-day pipeline. But we will try to improve the strategy performance by adding an intraday twist: we will only buy if the security is down for the day. In other words, we will enter positions on a counter-move.  "
   ]
  },
  {
   "cell_type": "markdown",
   "metadata": {},
   "source": [
    "Testing the performance of intraday trading rules requires running a full backtest. However, we can access intraday data in a notebook using the same API that will be available in our Zipline strategy. This allows us to get our code semantics right before transitioning to a backtest. "
   ]
  },
  {
   "cell_type": "markdown",
   "metadata": {},
   "source": [
    "## Introducing the Data Object\n",
    "In a Zipline strategy, two parameters are passed to user-defined functions: the `context` parameter, where users can store custom variables about the algorithm's state, and the `data` parameter, which is used to access intraday (and optionally end-of-day) price data:\n",
    "\n",
    "```python\n",
    "def handle_data(context, data):\n",
    "   ...\n",
    "```"
   ]
  },
  {
   "cell_type": "markdown",
   "metadata": {},
   "source": [
    "The `data` parameter is tied to the current simulation minute. That is, if it is currently 2020-07-01 at 3:30 PM within the simulation, the `data` object allows you to query prices as of that minute.  \n",
    "\n",
    "You can access the `data` object in notebooks by specifying the particular minute you want to use:"
   ]
  },
  {
   "cell_type": "code",
   "execution_count": 1,
   "metadata": {},
   "outputs": [
    {
     "name": "stderr",
     "output_type": "stream",
     "text": [
      "/opt/conda/envs/zipline/lib/python3.6/site-packages/gevent/monkey.py:685: DeprecationWarning: inspect.getargspec() is deprecated, use inspect.signature() or inspect.getfullargspec()\n",
      "  patch_all_args = getargspec(patch_all)[0] # pylint:disable=deprecated-method\n"
     ]
    }
   ],
   "source": [
    "from zipline.research import get_data\n",
    "data = get_data(\"2020-07-01 15:30:00\") # no bundle specified, so the default bundle will be used"
   ]
  },
  {
   "cell_type": "markdown",
   "metadata": {},
   "source": [
    "## Load assets\n",
    "\n",
    "The `data` object's methods take one or more Zipline assets (`zipline.assets.Asset`) as their first argument. There are two ways to get assets in a notebook.\n",
    "\n",
    "The first option is to run a pipeline and get the assets from the factor data. For example, using our previous pipeline, we could have accessed assets like this:\n",
    "\n",
    "```python\n",
    "factors = run_pipeline(pipeline, start_date=\"2017-01-01\", end_date=\"2019-01-01\")\n",
    "assets = factors.xs(\"2017-01-03\").index\n",
    "```\n",
    "\n",
    "The second option, which we will demonstrate here, is to use the `sid` function to load asset objects by sid. First, look up the sids in the master database:\n",
    "\n",
    "> This command uses the CLI to save typing. You can run terminal commands directly from a notebook using the `!` prefix."
   ]
  },
  {
   "cell_type": "code",
   "execution_count": 2,
   "metadata": {},
   "outputs": [
    {
     "name": "stdout",
     "output_type": "stream",
     "text": [
      "| Sid            | Symbol |\n",
      "| -------------- | ------ |\n",
      "| FIBBG000B9XRY4 | AAPL   |\n",
      "| FIBBG000BMHYD1 | JNJ    |\n"
     ]
    }
   ],
   "source": [
    "!quantrocket master get --symbols 'AAPL' 'JNJ' --fields 'Sid' 'Symbol' -e XNAS XNYS | csvlook"
   ]
  },
  {
   "cell_type": "markdown",
   "metadata": {},
   "source": [
    "Then load the asset objects:"
   ]
  },
  {
   "cell_type": "code",
   "execution_count": 3,
   "metadata": {},
   "outputs": [],
   "source": [
    "from zipline.research import sid\n",
    "\n",
    "aapl = sid(\"FIBBG000B9XRY4\") # no bundle specified, so the default bundle will be used\n",
    "jnj = sid(\"FIBBG000BMHYD1\")"
   ]
  },
  {
   "cell_type": "markdown",
   "metadata": {},
   "source": [
    "Now we can use the `data` object to calculate the intraday return as of the simulation minute we chose:"
   ]
  },
  {
   "cell_type": "code",
   "execution_count": 4,
   "metadata": {},
   "outputs": [
    {
     "data": {
      "text/plain": [
       "Equity(FIBBG000B9XRY4 [AAPL])   -0.000713\n",
       "Equity(FIBBG000BMHYD1 [JNJ])     0.001387\n",
       "dtype: float64"
      ]
     },
     "execution_count": 4,
     "metadata": {},
     "output_type": "execute_result"
    }
   ],
   "source": [
    "current_prices = data.current([aapl, jnj], \"price\")\n",
    "prior_closes = data.history([aapl, jnj], \"close\", 2, \"1d\").iloc[0]\n",
    "intraday_returns = (current_prices - prior_closes) / prior_closes\n",
    "intraday_returns"
   ]
  },
  {
   "cell_type": "markdown",
   "metadata": {},
   "source": [
    "In the Zipline strategy, we will use the intraday returns to determine whether to enter."
   ]
  },
  {
   "cell_type": "markdown",
   "metadata": {},
   "source": [
    "***\n",
    "\n",
    "## *Next Up*\n",
    "\n",
    "Part 5: [Zipline Strategy Code](Part5-Zipline-Strategy-Code.ipynb)"
   ]
  }
 ],
 "metadata": {
  "kernelspec": {
   "display_name": " Zipline environment",
   "language": "python",
   "name": "zipline"
  },
  "language_info": {
   "codemirror_mode": {
    "name": "ipython",
    "version": 3
   },
   "file_extension": ".py",
   "mimetype": "text/x-python",
   "name": "python",
   "nbconvert_exporter": "python",
   "pygments_lexer": "ipython3",
   "version": "3.6.2"
  }
 },
 "nbformat": 4,
 "nbformat_minor": 4
}
